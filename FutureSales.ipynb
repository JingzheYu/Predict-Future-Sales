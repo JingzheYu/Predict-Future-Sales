{
 "cells": [
  {
   "cell_type": "markdown",
   "metadata": {},
   "source": [
    "# Import libraries and load data"
   ]
  },
  {
   "cell_type": "code",
   "execution_count": 1,
   "metadata": {},
   "outputs": [],
   "source": [
    "import numpy as np\n",
    "import pandas as pd\n",
    "import matplotlib.pyplot as plt\n",
    "%matplotlib inline\n",
    "from tqdm import tqdm_notebook\n",
    "import gc\n",
    "from sklearn.externals import joblib\n",
    "from sklearn.metrics import mean_squared_error\n",
    "import lightgbm as lgb\n",
    "from hyperopt import fmin, hp, tpe\n",
    "import os\n",
    "\n"
   ]
  },
  {
   "cell_type": "code",
   "execution_count": 2,
   "metadata": {},
   "outputs": [],
   "source": [
    "DATA_FOLDER = '../FutureSales/dataset/'\n",
    "\n",
    "train_data      = pd.read_csv(os.path.join(DATA_FOLDER, 'sales_train_v2.csv'))\n",
    "test_data       = pd.read_csv(os.path.join(DATA_FOLDER, 'test.csv'))\n",
    "items           = pd.read_csv(os.path.join(DATA_FOLDER, 'items.csv'))\n",
    "item_categories = pd.read_csv(os.path.join(DATA_FOLDER, 'item_categories.csv'))\n",
    "shops           = pd.read_csv(os.path.join(DATA_FOLDER, 'shops.csv'))"
   ]
  },
  {
   "cell_type": "markdown",
   "metadata": {},
   "source": [
    "# Simple EDA"
   ]
  },
  {
   "cell_type": "markdown",
   "metadata": {},
   "source": [
    "## Basic exploratory analysis"
   ]
  },
  {
   "cell_type": "markdown",
   "metadata": {},
   "source": [
    "Some basic information about train and test data:"
   ]
  },
  {
   "cell_type": "code",
   "execution_count": 3,
   "metadata": {},
   "outputs": [
    {
     "name": "stdout",
     "output_type": "stream",
     "text": [
      "(2935849, 6)\n",
      "(214200, 3)\n",
      "(22170, 3)\n",
      "(84, 2)\n",
      "(60, 2)\n"
     ]
    }
   ],
   "source": [
    "print(train_data.shape)\n",
    "print(test_data.shape)\n",
    "print(items.shape)\n",
    "print(item_categories.shape)\n",
    "print(shops.shape)"
   ]
  },
  {
   "cell_type": "code",
   "execution_count": 4,
   "metadata": {},
   "outputs": [
    {
     "data": {
      "text/html": [
       "<div>\n",
       "<style scoped>\n",
       "    .dataframe tbody tr th:only-of-type {\n",
       "        vertical-align: middle;\n",
       "    }\n",
       "\n",
       "    .dataframe tbody tr th {\n",
       "        vertical-align: top;\n",
       "    }\n",
       "\n",
       "    .dataframe thead th {\n",
       "        text-align: right;\n",
       "    }\n",
       "</style>\n",
       "<table border=\"1\" class=\"dataframe\">\n",
       "  <thead>\n",
       "    <tr style=\"text-align: right;\">\n",
       "      <th></th>\n",
       "      <th>date</th>\n",
       "      <th>date_block_num</th>\n",
       "      <th>shop_id</th>\n",
       "      <th>item_id</th>\n",
       "      <th>item_price</th>\n",
       "      <th>item_cnt_day</th>\n",
       "    </tr>\n",
       "  </thead>\n",
       "  <tbody>\n",
       "    <tr>\n",
       "      <th>0</th>\n",
       "      <td>02.01.2013</td>\n",
       "      <td>0</td>\n",
       "      <td>59</td>\n",
       "      <td>22154</td>\n",
       "      <td>999.00</td>\n",
       "      <td>1.0</td>\n",
       "    </tr>\n",
       "    <tr>\n",
       "      <th>1</th>\n",
       "      <td>03.01.2013</td>\n",
       "      <td>0</td>\n",
       "      <td>25</td>\n",
       "      <td>2552</td>\n",
       "      <td>899.00</td>\n",
       "      <td>1.0</td>\n",
       "    </tr>\n",
       "    <tr>\n",
       "      <th>2</th>\n",
       "      <td>05.01.2013</td>\n",
       "      <td>0</td>\n",
       "      <td>25</td>\n",
       "      <td>2552</td>\n",
       "      <td>899.00</td>\n",
       "      <td>-1.0</td>\n",
       "    </tr>\n",
       "    <tr>\n",
       "      <th>3</th>\n",
       "      <td>06.01.2013</td>\n",
       "      <td>0</td>\n",
       "      <td>25</td>\n",
       "      <td>2554</td>\n",
       "      <td>1709.05</td>\n",
       "      <td>1.0</td>\n",
       "    </tr>\n",
       "    <tr>\n",
       "      <th>4</th>\n",
       "      <td>15.01.2013</td>\n",
       "      <td>0</td>\n",
       "      <td>25</td>\n",
       "      <td>2555</td>\n",
       "      <td>1099.00</td>\n",
       "      <td>1.0</td>\n",
       "    </tr>\n",
       "  </tbody>\n",
       "</table>\n",
       "</div>"
      ],
      "text/plain": [
       "         date  date_block_num  shop_id  item_id  item_price  item_cnt_day\n",
       "0  02.01.2013               0       59    22154      999.00           1.0\n",
       "1  03.01.2013               0       25     2552      899.00           1.0\n",
       "2  05.01.2013               0       25     2552      899.00          -1.0\n",
       "3  06.01.2013               0       25     2554     1709.05           1.0\n",
       "4  15.01.2013               0       25     2555     1099.00           1.0"
      ]
     },
     "execution_count": 4,
     "metadata": {},
     "output_type": "execute_result"
    }
   ],
   "source": [
    "train_data.head()"
   ]
  },
  {
   "cell_type": "code",
   "execution_count": 5,
   "metadata": {},
   "outputs": [
    {
     "data": {
      "text/html": [
       "<div>\n",
       "<style scoped>\n",
       "    .dataframe tbody tr th:only-of-type {\n",
       "        vertical-align: middle;\n",
       "    }\n",
       "\n",
       "    .dataframe tbody tr th {\n",
       "        vertical-align: top;\n",
       "    }\n",
       "\n",
       "    .dataframe thead th {\n",
       "        text-align: right;\n",
       "    }\n",
       "</style>\n",
       "<table border=\"1\" class=\"dataframe\">\n",
       "  <thead>\n",
       "    <tr style=\"text-align: right;\">\n",
       "      <th></th>\n",
       "      <th>ID</th>\n",
       "      <th>shop_id</th>\n",
       "      <th>item_id</th>\n",
       "    </tr>\n",
       "  </thead>\n",
       "  <tbody>\n",
       "    <tr>\n",
       "      <th>0</th>\n",
       "      <td>0</td>\n",
       "      <td>5</td>\n",
       "      <td>5037</td>\n",
       "    </tr>\n",
       "    <tr>\n",
       "      <th>1</th>\n",
       "      <td>1</td>\n",
       "      <td>5</td>\n",
       "      <td>5320</td>\n",
       "    </tr>\n",
       "    <tr>\n",
       "      <th>2</th>\n",
       "      <td>2</td>\n",
       "      <td>5</td>\n",
       "      <td>5233</td>\n",
       "    </tr>\n",
       "    <tr>\n",
       "      <th>3</th>\n",
       "      <td>3</td>\n",
       "      <td>5</td>\n",
       "      <td>5232</td>\n",
       "    </tr>\n",
       "    <tr>\n",
       "      <th>4</th>\n",
       "      <td>4</td>\n",
       "      <td>5</td>\n",
       "      <td>5268</td>\n",
       "    </tr>\n",
       "  </tbody>\n",
       "</table>\n",
       "</div>"
      ],
      "text/plain": [
       "   ID  shop_id  item_id\n",
       "0   0        5     5037\n",
       "1   1        5     5320\n",
       "2   2        5     5233\n",
       "3   3        5     5232\n",
       "4   4        5     5268"
      ]
     },
     "execution_count": 5,
     "metadata": {},
     "output_type": "execute_result"
    }
   ],
   "source": [
    "test_data.head()"
   ]
  },
  {
   "cell_type": "code",
   "execution_count": 6,
   "metadata": {},
   "outputs": [
    {
     "name": "stdout",
     "output_type": "stream",
     "text": [
      "<class 'pandas.core.frame.DataFrame'>\n",
      "RangeIndex: 2935849 entries, 0 to 2935848\n",
      "Data columns (total 6 columns):\n",
      "date              object\n",
      "date_block_num    int64\n",
      "shop_id           int64\n",
      "item_id           int64\n",
      "item_price        float64\n",
      "item_cnt_day      float64\n",
      "dtypes: float64(2), int64(3), object(1)\n",
      "memory usage: 134.4+ MB\n"
     ]
    }
   ],
   "source": [
    "train_data.info()"
   ]
  },
  {
   "cell_type": "code",
   "execution_count": 7,
   "metadata": {},
   "outputs": [
    {
     "data": {
      "text/html": [
       "<div>\n",
       "<style scoped>\n",
       "    .dataframe tbody tr th:only-of-type {\n",
       "        vertical-align: middle;\n",
       "    }\n",
       "\n",
       "    .dataframe tbody tr th {\n",
       "        vertical-align: top;\n",
       "    }\n",
       "\n",
       "    .dataframe thead th {\n",
       "        text-align: right;\n",
       "    }\n",
       "</style>\n",
       "<table border=\"1\" class=\"dataframe\">\n",
       "  <thead>\n",
       "    <tr style=\"text-align: right;\">\n",
       "      <th></th>\n",
       "      <th>date_block_num</th>\n",
       "      <th>shop_id</th>\n",
       "      <th>item_id</th>\n",
       "      <th>item_price</th>\n",
       "      <th>item_cnt_day</th>\n",
       "    </tr>\n",
       "  </thead>\n",
       "  <tbody>\n",
       "    <tr>\n",
       "      <th>count</th>\n",
       "      <td>2.935849e+06</td>\n",
       "      <td>2.935849e+06</td>\n",
       "      <td>2.935849e+06</td>\n",
       "      <td>2.935849e+06</td>\n",
       "      <td>2.935849e+06</td>\n",
       "    </tr>\n",
       "    <tr>\n",
       "      <th>mean</th>\n",
       "      <td>1.456991e+01</td>\n",
       "      <td>3.300173e+01</td>\n",
       "      <td>1.019723e+04</td>\n",
       "      <td>8.908532e+02</td>\n",
       "      <td>1.242641e+00</td>\n",
       "    </tr>\n",
       "    <tr>\n",
       "      <th>std</th>\n",
       "      <td>9.422988e+00</td>\n",
       "      <td>1.622697e+01</td>\n",
       "      <td>6.324297e+03</td>\n",
       "      <td>1.729800e+03</td>\n",
       "      <td>2.618834e+00</td>\n",
       "    </tr>\n",
       "    <tr>\n",
       "      <th>min</th>\n",
       "      <td>0.000000e+00</td>\n",
       "      <td>0.000000e+00</td>\n",
       "      <td>0.000000e+00</td>\n",
       "      <td>-1.000000e+00</td>\n",
       "      <td>-2.200000e+01</td>\n",
       "    </tr>\n",
       "    <tr>\n",
       "      <th>25%</th>\n",
       "      <td>7.000000e+00</td>\n",
       "      <td>2.200000e+01</td>\n",
       "      <td>4.476000e+03</td>\n",
       "      <td>2.490000e+02</td>\n",
       "      <td>1.000000e+00</td>\n",
       "    </tr>\n",
       "    <tr>\n",
       "      <th>50%</th>\n",
       "      <td>1.400000e+01</td>\n",
       "      <td>3.100000e+01</td>\n",
       "      <td>9.343000e+03</td>\n",
       "      <td>3.990000e+02</td>\n",
       "      <td>1.000000e+00</td>\n",
       "    </tr>\n",
       "    <tr>\n",
       "      <th>75%</th>\n",
       "      <td>2.300000e+01</td>\n",
       "      <td>4.700000e+01</td>\n",
       "      <td>1.568400e+04</td>\n",
       "      <td>9.990000e+02</td>\n",
       "      <td>1.000000e+00</td>\n",
       "    </tr>\n",
       "    <tr>\n",
       "      <th>max</th>\n",
       "      <td>3.300000e+01</td>\n",
       "      <td>5.900000e+01</td>\n",
       "      <td>2.216900e+04</td>\n",
       "      <td>3.079800e+05</td>\n",
       "      <td>2.169000e+03</td>\n",
       "    </tr>\n",
       "  </tbody>\n",
       "</table>\n",
       "</div>"
      ],
      "text/plain": [
       "       date_block_num       shop_id       item_id    item_price  item_cnt_day\n",
       "count    2.935849e+06  2.935849e+06  2.935849e+06  2.935849e+06  2.935849e+06\n",
       "mean     1.456991e+01  3.300173e+01  1.019723e+04  8.908532e+02  1.242641e+00\n",
       "std      9.422988e+00  1.622697e+01  6.324297e+03  1.729800e+03  2.618834e+00\n",
       "min      0.000000e+00  0.000000e+00  0.000000e+00 -1.000000e+00 -2.200000e+01\n",
       "25%      7.000000e+00  2.200000e+01  4.476000e+03  2.490000e+02  1.000000e+00\n",
       "50%      1.400000e+01  3.100000e+01  9.343000e+03  3.990000e+02  1.000000e+00\n",
       "75%      2.300000e+01  4.700000e+01  1.568400e+04  9.990000e+02  1.000000e+00\n",
       "max      3.300000e+01  5.900000e+01  2.216900e+04  3.079800e+05  2.169000e+03"
      ]
     },
     "execution_count": 7,
     "metadata": {},
     "output_type": "execute_result"
    }
   ],
   "source": [
    "train_data.describe()"
   ]
  },
  {
   "cell_type": "code",
   "execution_count": 8,
   "metadata": {},
   "outputs": [
    {
     "data": {
      "text/plain": [
       "-22.0          1\n",
       "-16.0          1\n",
       "-9.0           1\n",
       "-6.0           2\n",
       "-5.0           4\n",
       "-4.0           3\n",
       "-3.0          14\n",
       "-2.0          78\n",
       "-1.0        7252\n",
       " 1.0     2629372\n",
       " 2.0      194201\n",
       " 3.0       47350\n",
       " 4.0       19685\n",
       " 5.0       10474\n",
       " 6.0        6338\n",
       "Name: item_cnt_day, dtype: int64"
      ]
     },
     "execution_count": 8,
     "metadata": {},
     "output_type": "execute_result"
    }
   ],
   "source": [
    "train_data['item_cnt_day'].value_counts().sort_index().head(15)"
   ]
  },
  {
   "cell_type": "markdown",
   "metadata": {},
   "source": [
    "Take a look at the total sales for each month:"
   ]
  },
  {
   "cell_type": "code",
   "execution_count": 9,
   "metadata": {},
   "outputs": [
    {
     "data": {
      "image/png": "[encoded data removed]",
      "text/plain": [
       "<Figure size 432x288 with 1 Axes>"
      ]
     },
     "metadata": {
      "needs_background": "light"
     },
     "output_type": "display_data"
    }
   ],
   "source": [
    "train_data[['date_block_num', 'item_cnt_day']].groupby('date_block_num').agg('sum').plot();"
   ]
  },
  {
   "cell_type": "markdown",
   "metadata": {},
   "source": [
    "There is an obvious seasonal trend, especially in month 11 and 23 (December)."
   ]
  },
  {
   "cell_type": "markdown",
   "metadata": {},
   "source": [
    "What's the correlation between the sales for each item in two adjacent months?"
   ]
  },
  {
   "cell_type": "code",
   "execution_count": 10,
   "metadata": {},
   "outputs": [],
   "source": [
    "index_cols = ['shop_id','item_id','date_block_num']\n",
    "sales=train_data[index_cols+[ 'item_cnt_day']].groupby(index_cols).agg('sum').reset_index()"
   ]
  },
  {
   "cell_type": "code",
   "execution_count": 11,
   "metadata": {},
   "outputs": [],
   "source": [
    "sales_lag = sales.copy()\n",
    "sales_lag['date_block_num']+=1\n",
    "sales_lag.rename(columns={'item_cnt_day':'item_cnt_day_lag_1'},inplace=True)\n",
    "sales = sales.merge(sales_lag,on=index_cols,how='left')"
   ]
  },
  {
   "cell_type": "code",
   "execution_count": 12,
   "metadata": {
    "scrolled": true
   },
   "outputs": [
    {
     "data": {
      "text/plain": [
       "0.7313478446098894"
      ]
     },
     "execution_count": 12,
     "metadata": {},
     "output_type": "execute_result"
    }
   ],
   "source": [
    "sales.dropna(inplace=True)\n",
    "np.corrcoef(sales['item_cnt_day_lag_1'],sales['item_cnt_day'])[0][1]"
   ]
  },
  {
   "cell_type": "markdown",
   "metadata": {},
   "source": [
    "Roughly 0,73, a pretty high correlation coefficent. This implies the sales this month could be a good indicator for predicting the sales in the next month.\n",
    "\n",
    "Furthermore, the average sales for one item among all the shops may also be useful. Think of applying mean-coding to the training data."
   ]
  },
  {
   "cell_type": "markdown",
   "metadata": {
    "collapsed": true
   },
   "source": [
    "## Explore the structure of test data"
   ]
  },
  {
   "cell_type": "markdown",
   "metadata": {},
   "source": [
    "Notice that we need to predict the monthly sales for the test set based on each `(shop_id, item_id)` pair. Have these pairs appeared in the training set? "
   ]
  },
  {
   "cell_type": "code",
   "execution_count": 13,
   "metadata": {},
   "outputs": [],
   "source": [
    "# add shop_item_pair feature to train and test\n",
    "train_data['shop_item_pair'] = train_data[['shop_id', 'item_id']].apply(\n",
    "    lambda x: (x['shop_id'], x['item_id']), axis=1)\n",
    "test_data['shop_item_pair'] = test_data[['shop_id', 'item_id']].apply(\n",
    "    lambda x: (x['shop_id'], x['item_id']), axis=1)"
   ]
  },
  {
   "cell_type": "code",
   "execution_count": 14,
   "metadata": {},
   "outputs": [
    {
     "data": {
      "text/plain": [
       "214200"
      ]
     },
     "execution_count": 14,
     "metadata": {},
     "output_type": "execute_result"
    }
   ],
   "source": [
    "test_data['shop_id'].isin(train_data['shop_id'].drop_duplicates()).sum()"
   ]
  },
  {
   "cell_type": "markdown",
   "metadata": {},
   "source": [
    "All the shops in the test set have appeared in the training set.So Let's consider divide test set into three groups:\n",
    "\n",
    "- Samples whose shop_item pairs have already existed in the training set\n",
    "- Samples only item_id in the training set\n",
    "- Samples that are totally new"
   ]
  },
  {
   "cell_type": "code",
   "execution_count": 15,
   "metadata": {},
   "outputs": [],
   "source": [
    "# Select all shop_item_pair in the training set\n",
    "shop_item_train_list = train_data['shop_item_pair'].unique()\n",
    "item_train_list = train_data['item_id'].unique()"
   ]
  },
  {
   "cell_type": "code",
   "execution_count": 16,
   "metadata": {},
   "outputs": [
    {
     "name": "stdout",
     "output_type": "stream",
     "text": [
      "# shop_item pair in the train: 111404\n",
      "# item_id in the train: 87550\n",
      "# new: 15246\n"
     ]
    }
   ],
   "source": [
    "test_good_num = len(\n",
    "    test_data[test_data['shop_item_pair'].isin(shop_item_train_list)])\n",
    "test_item_old_num = len(test_data[(~test_data['shop_item_pair'].isin(\n",
    "    shop_item_train_list)) & (test_data['item_id'].isin(item_train_list))])\n",
    "test_new_num = len(test_data) - test_good_num-test_item_old_num\n",
    "print('# shop_item pair in the train: {0}'.format(test_good_num))\n",
    "print('# item_id in the train: {0}'.format(test_item_old_num))\n",
    "print('# new: {0}'.format(test_new_num))"
   ]
  },
  {
   "cell_type": "markdown",
   "metadata": {},
   "source": [
    "Would these groups have different distributions of sales? Let's examine similar patterns in the data of month 33:"
   ]
  },
  {
   "cell_type": "markdown",
   "metadata": {},
   "source": [
    "First, create val_data dataframe;"
   ]
  },
  {
   "cell_type": "code",
   "execution_count": 17,
   "metadata": {},
   "outputs": [],
   "source": [
    "from itertools import product\n",
    "val_data = train_data[train_data['date_block_num'] == 33]\n",
    "# fill in those shop_item pairs that didn't have sales on month 33\n",
    "val_shops = val_data['shop_id'].unique()\n",
    "val_items = val_data['item_id'].unique()\n",
    "grid = pd.DataFrame(np.array(\n",
    "    list(product(*[val_shops, val_items, [33]]))), columns=index_cols)\n",
    "gb = val_data[index_cols+['item_cnt_day']\n",
    "              ].groupby(index_cols, as_index=False).agg('sum')\n",
    "# join aggregated data to the grid\n",
    "val_all_data = pd.merge(grid, gb, how='left', on=index_cols)\n",
    "# fill NA values for item_cnt\n",
    "val_all_data['item_cnt_day'].fillna(0, inplace=True)\n",
    "val_all_data['shop_item_pair'] = val_all_data[['shop_id', 'item_id']].apply(\n",
    "    lambda x: (x['shop_id'], x['item_id']), axis=1)"
   ]
  },
  {
   "cell_type": "markdown",
   "metadata": {},
   "source": [
    "Then apply the same method to val_data:"
   ]
  },
  {
   "cell_type": "code",
   "execution_count": 18,
   "metadata": {},
   "outputs": [],
   "source": [
    "train_drop_val = train_data[train_data['date_block_num']<33]\n",
    "shop_item_train_list = train_drop_val['shop_item_pair'].unique()\n",
    "item_train_list = train_drop_val['item_id'].unique()"
   ]
  },
  {
   "cell_type": "code",
   "execution_count": 19,
   "metadata": {},
   "outputs": [
    {
     "name": "stdout",
     "output_type": "stream",
     "text": [
      "# shop_item pair in the train: 117057\n",
      "# item_id in the train: 100215\n",
      "# new: 20900\n"
     ]
    }
   ],
   "source": [
    "val_good = val_all_data[val_all_data['shop_item_pair'].isin(shop_item_train_list)]\n",
    "val_item_old = val_all_data[(~val_all_data['shop_item_pair'].isin(\n",
    "    shop_item_train_list)) & (val_all_data['item_id'].isin(item_train_list))]\n",
    "val_new = val_all_data[~(val_all_data['item_id'].isin(item_train_list))]\n",
    "print('# shop_item pair in the train: {0}'.format(len(val_good)))\n",
    "print('# item_id in the train: {0}'.format(len(val_item_old)))\n",
    "print('# new: {0}'.format(len(val_new)))"
   ]
  },
  {
   "cell_type": "markdown",
   "metadata": {},
   "source": [
    "Next, Let's take a look at the distributions for the target in the tree types:"
   ]
  },
  {
   "cell_type": "code",
   "execution_count": 20,
   "metadata": {},
   "outputs": [
    {
     "name": "stderr",
     "output_type": "stream",
     "text": [
      "E:\\Anaconda3\\lib\\site-packages\\pandas\\core\\generic.py:6316: SettingWithCopyWarning: \n",
      "A value is trying to be set on a copy of a slice from a DataFrame\n",
      "\n",
      "See the caveats in the documentation: http://pandas.pydata.org/pandas-docs/stable/indexing.html#indexing-view-versus-copy\n",
      "  self._update_inplace(result)\n"
     ]
    }
   ],
   "source": [
    "# clip target\n",
    "val_good['item_cnt_day'].clip(0,20,inplace=True)\n",
    "val_item_old['item_cnt_day'].clip(0,20,inplace=True)\n",
    "val_new['item_cnt_day'].clip(0,20,inplace=True)"
   ]
  },
  {
   "cell_type": "code",
   "execution_count": 21,
   "metadata": {},
   "outputs": [
    {
     "data": {
      "image/png": "[encoded data removed]",
      "text/plain": [
       "<Figure size 1296x432 with 3 Axes>"
      ]
     },
     "metadata": {
      "needs_background": "light"
     },
     "output_type": "display_data"
    }
   ],
   "source": [
    "fig, axes = plt.subplots(nrows=1, ncols=3,sharey=True, figsize=(18, 6))\n",
    "\n",
    "for i, df, name in zip(range(3), [val_good, val_item_old, val_new], ['good', 'item_old', 'new']):    \n",
    "    plot_data = df['item_cnt_day'].value_counts(normalize=True).sort_index()\n",
    "    ax = plot_data.plot(kind='bar', ax=axes[i],logy=True)\n",
    "    ax.set_xlabel(name+' items')\n",
    "    ax.set_ylabel('Sales')"
   ]
  },
  {
   "cell_type": "markdown",
   "metadata": {},
   "source": [
    "The above figures show that the three types have different distribution for target value. For item_old items, there is a very high probability for zero sales. For new items, when sales happen, the amount of sales would be relatively higher. So the difference in these types may be a good indicator for prediction. Actually, this factor contributes a lot to my final solution."
   ]
  },
  {
   "cell_type": "markdown",
   "metadata": {},
   "source": [
    "# Creat complete training dataset"
   ]
  },
  {
   "cell_type": "markdown",
   "metadata": {
    "scrolled": true
   },
   "source": [
    "Now let's start feature engineering. Fisrt I fill in the missing samples which have zero sales:"
   ]
  },
  {
   "cell_type": "code",
   "execution_count": 22,
   "metadata": {},
   "outputs": [
    {
     "data": {
      "application/vnd.jupyter.widget-view+json": {
       "model_id": "7361d33b6a1b4a9e9ded11c7d75b8f11",
       "version_major": 2,
       "version_minor": 0
      },
      "text/plain": [
       "HBox(children=(IntProgress(value=0, max=34), HTML(value='')))"
      ]
     },
     "metadata": {},
     "output_type": "display_data"
    },
    {
     "name": "stdout",
     "output_type": "stream",
     "text": [
      "\n"
     ]
    }
   ],
   "source": [
    "# For every month we create a grid from all shops/items combinations from that month\n",
    "grid = [] \n",
    "for block_num in tqdm_notebook(train_data['date_block_num'].unique()):\n",
    "    cur_shops = train_data[train_data['date_block_num']==block_num]['shop_id'].unique()\n",
    "    cur_items = train_data[train_data['date_block_num']==block_num]['item_id'].unique()\n",
    "    grid.append(np.array(list(product(*[cur_shops, cur_items, [block_num]])),dtype='int32'))\n",
    "\n",
    "#turn the grid into pandas dataframe\n",
    "grid = pd.DataFrame(np.vstack(grid), columns = index_cols,dtype=np.int32)"
   ]
  },
  {
   "cell_type": "code",
   "execution_count": 23,
   "metadata": {},
   "outputs": [],
   "source": [
    "#get aggregated values for (shop_id, item_id, month)\n",
    "gb = train_data.groupby(index_cols,as_index=False).agg({'item_cnt_day':'sum','item_price':'mean'})\n",
    "\n",
    "#join aggregated data to the grid\n",
    "all_data = pd.merge(grid,gb,how='left',on=index_cols)\n",
    "#fill NA values for item_cnt\n",
    "all_data['item_cnt_day'].fillna(0,inplace=True)\n",
    "#sort the data\n",
    "all_data.sort_values(['date_block_num','shop_id','item_id'],inplace=True)"
   ]
  },
  {
   "cell_type": "code",
   "execution_count": 24,
   "metadata": {},
   "outputs": [],
   "source": [
    "# merge item_category into data\n",
    "all_data = pd.merge(all_data, items, on='item_id', how='left')\n",
    "all_data.rename(columns={'item_cnt_day': 'item_cnt'}, inplace=True)"
   ]
  },
  {
   "cell_type": "code",
   "execution_count": 25,
   "metadata": {},
   "outputs": [],
   "source": [
    "# downcast data to save memory\n",
    "def downcast_dtypes(df):\n",
    "    '''\n",
    "        Changes column types in the dataframe: \n",
    "                \n",
    "                `float64` type to `float16`\n",
    "                `int64`   type to `int32`\n",
    "    '''\n",
    "    \n",
    "    # Select columns to downcast\n",
    "    float_cols = [c for c in df if df[c].dtype == \"float64\"]\n",
    "    int_cols =   [c for c in df if df[c].dtype == \"int64\"]\n",
    "    \n",
    "    # Downcast\n",
    "    df[float_cols] = df[float_cols].astype(np.float16)\n",
    "    df[int_cols]   = df[int_cols].astype(np.int32)\n",
    "    \n",
    "    return df\n",
    "\n",
    "all_data = downcast_dtypes(all_data)"
   ]
  },
  {
   "cell_type": "code",
   "execution_count": 26,
   "metadata": {},
   "outputs": [],
   "source": [
    "del grid, gb\n",
    "gc.collect();"
   ]
  },
  {
   "cell_type": "code",
   "execution_count": 27,
   "metadata": {},
   "outputs": [
    {
     "data": {
      "text/html": [
       "<div>\n",
       "<style scoped>\n",
       "    .dataframe tbody tr th:only-of-type {\n",
       "        vertical-align: middle;\n",
       "    }\n",
       "\n",
       "    .dataframe tbody tr th {\n",
       "        vertical-align: top;\n",
       "    }\n",
       "\n",
       "    .dataframe thead th {\n",
       "        text-align: right;\n",
       "    }\n",
       "</style>\n",
       "<table border=\"1\" class=\"dataframe\">\n",
       "  <thead>\n",
       "    <tr style=\"text-align: right;\">\n",
       "      <th></th>\n",
       "      <th>shop_id</th>\n",
       "      <th>item_id</th>\n",
       "      <th>date_block_num</th>\n",
       "      <th>item_cnt</th>\n",
       "      <th>item_price</th>\n",
       "      <th>item_name</th>\n",
       "      <th>item_category_id</th>\n",
       "    </tr>\n",
       "  </thead>\n",
       "  <tbody>\n",
       "    <tr>\n",
       "      <th>0</th>\n",
       "      <td>0</td>\n",
       "      <td>19</td>\n",
       "      <td>0</td>\n",
       "      <td>0.0</td>\n",
       "      <td>NaN</td>\n",
       "      <td>/ЗОЛОТАЯ КОЛЛЕКЦИЯ м/ф-72</td>\n",
       "      <td>40</td>\n",
       "    </tr>\n",
       "    <tr>\n",
       "      <th>1</th>\n",
       "      <td>0</td>\n",
       "      <td>27</td>\n",
       "      <td>0</td>\n",
       "      <td>0.0</td>\n",
       "      <td>NaN</td>\n",
       "      <td>007 Legends [PS3, русская версия]</td>\n",
       "      <td>19</td>\n",
       "    </tr>\n",
       "    <tr>\n",
       "      <th>2</th>\n",
       "      <td>0</td>\n",
       "      <td>28</td>\n",
       "      <td>0</td>\n",
       "      <td>0.0</td>\n",
       "      <td>NaN</td>\n",
       "      <td>007 Legends [PС, Jewel, русская версия]</td>\n",
       "      <td>30</td>\n",
       "    </tr>\n",
       "    <tr>\n",
       "      <th>3</th>\n",
       "      <td>0</td>\n",
       "      <td>29</td>\n",
       "      <td>0</td>\n",
       "      <td>0.0</td>\n",
       "      <td>NaN</td>\n",
       "      <td>007 Legends [Xbox 360, русская версия]</td>\n",
       "      <td>23</td>\n",
       "    </tr>\n",
       "    <tr>\n",
       "      <th>4</th>\n",
       "      <td>0</td>\n",
       "      <td>32</td>\n",
       "      <td>0</td>\n",
       "      <td>6.0</td>\n",
       "      <td>221.0</td>\n",
       "      <td>1+1</td>\n",
       "      <td>40</td>\n",
       "    </tr>\n",
       "  </tbody>\n",
       "</table>\n",
       "</div>"
      ],
      "text/plain": [
       "   shop_id  item_id  date_block_num  item_cnt  item_price  \\\n",
       "0        0       19               0       0.0         NaN   \n",
       "1        0       27               0       0.0         NaN   \n",
       "2        0       28               0       0.0         NaN   \n",
       "3        0       29               0       0.0         NaN   \n",
       "4        0       32               0       6.0       221.0   \n",
       "\n",
       "                                 item_name  item_category_id  \n",
       "0                /ЗОЛОТАЯ КОЛЛЕКЦИЯ м/ф-72                40  \n",
       "1        007 Legends [PS3, русская версия]                19  \n",
       "2  007 Legends [PС, Jewel, русская версия]                30  \n",
       "3   007 Legends [Xbox 360, русская версия]                23  \n",
       "4                                      1+1                40  "
      ]
     },
     "execution_count": 27,
     "metadata": {},
     "output_type": "execute_result"
    }
   ],
   "source": [
    "all_data.head()"
   ]
  },
  {
   "cell_type": "markdown",
   "metadata": {},
   "source": [
    "# Mean Encoding"
   ]
  },
  {
   "cell_type": "code",
   "execution_count": 28,
   "metadata": {
    "code_folding": [
     5,
     14,
     23
    ]
   },
   "outputs": [],
   "source": [
    "def mean_enc(df_, enc_cols, enc_list):\n",
    "    gb_list = []\n",
    "    df = df_.copy()\n",
    "    for type_id in tqdm_notebook(enc_cols):\n",
    "        if type_id == None:\n",
    "            for column_id, aggregator, aggtype in enc_list:\n",
    "                gb = df.groupby(['date_block_num']).agg(\n",
    "                    aggregator).reset_index()[[column_id, 'date_block_num']]\n",
    "                gb.columns = ['{0}_{1}_{2}'.format(\n",
    "                    'date', aggtype, column_id), 'date_block_num']\n",
    "                df = pd.merge(df, gb, on=[\n",
    "                    'date_block_num'], how='left')\n",
    "                gb_list.append(gb)\n",
    "        elif type(type_id) == str:\n",
    "            for column_id, aggregator, aggtype in enc_list:\n",
    "                gb = df.groupby([type_id, 'date_block_num']).agg(\n",
    "                    aggregator).reset_index()[[column_id, type_id, 'date_block_num']]\n",
    "                gb.columns = ['{0}_{1}_{2}'.format(\n",
    "                    type_id, aggtype, column_id), type_id, 'date_block_num']\n",
    "                df = pd.merge(df, gb, on=[\n",
    "                    'date_block_num', type_id], how='left')\n",
    "                gb_list.append(gb)\n",
    "        else:\n",
    "            for column_id, aggregator, aggtype in enc_list:\n",
    "                gb = df.groupby([type_id[0], type_id[1], 'date_block_num']).agg(\n",
    "                    aggregator).reset_index()[[column_id, type_id[0], type_id[1], 'date_block_num']]\n",
    "                gb.columns = ['{0}_{1}_{2}_{3}'.format(\n",
    "                    type_id[0], type_id[1], aggtype, column_id), type_id[0], type_id[1], 'date_block_num']\n",
    "                df = pd.merge(df, gb, on=[\n",
    "                    'date_block_num', type_id[0], type_id[1]], how='left')\n",
    "                gb_list.append(gb)\n",
    "    return df, gb_list"
   ]
  },
  {
   "cell_type": "code",
   "execution_count": 29,
   "metadata": {},
   "outputs": [
    {
     "data": {
      "application/vnd.jupyter.widget-view+json": {
       "model_id": "86da5d90a41743fdaf12cabb8d6c5f3a",
       "version_major": 2,
       "version_minor": 0
      },
      "text/plain": [
       "HBox(children=(IntProgress(value=0, max=4), HTML(value='')))"
      ]
     },
     "metadata": {},
     "output_type": "display_data"
    },
    {
     "name": "stdout",
     "output_type": "stream",
     "text": [
      "\n"
     ]
    }
   ],
   "source": [
    "enc_cols = ['item_id', 'shop_id', 'item_category_id',['shop_id', 'item_category_id']]\n",
    "enc_list = [('item_cnt', np.sum, 'sum'), ('item_price', np.mean, 'avg')]\n",
    "all_data_enc, gb_list = mean_enc(all_data, enc_cols, enc_list)"
   ]
  },
  {
   "cell_type": "code",
   "execution_count": 30,
   "metadata": {
    "scrolled": true
   },
   "outputs": [
    {
     "name": "stdout",
     "output_type": "stream",
     "text": [
      "<class 'pandas.core.frame.DataFrame'>\n",
      "Int64Index: 10913850 entries, 0 to 10913849\n",
      "Data columns (total 15 columns):\n",
      "shop_id                                    int32\n",
      "item_id                                    int32\n",
      "date_block_num                             int32\n",
      "item_cnt                                   float16\n",
      "item_price                                 float16\n",
      "item_name                                  object\n",
      "item_category_id                           int32\n",
      "item_id_sum_item_cnt                       float16\n",
      "item_id_avg_item_price                     float16\n",
      "shop_id_sum_item_cnt                       float16\n",
      "shop_id_avg_item_price                     float16\n",
      "item_category_id_sum_item_cnt              float16\n",
      "item_category_id_avg_item_price            float16\n",
      "shop_id_item_category_id_sum_item_cnt      float16\n",
      "shop_id_item_category_id_avg_item_price    float16\n",
      "dtypes: float16(10), int32(4), object(1)\n",
      "memory usage: 541.2+ MB\n"
     ]
    }
   ],
   "source": [
    "all_data_enc.info()"
   ]
  },
  {
   "cell_type": "code",
   "execution_count": 31,
   "metadata": {},
   "outputs": [],
   "source": [
    "del all_data\n",
    "gc.collect();"
   ]
  },
  {
   "cell_type": "markdown",
   "metadata": {},
   "source": [
    "# make lag features"
   ]
  },
  {
   "cell_type": "code",
   "execution_count": 32,
   "metadata": {},
   "outputs": [],
   "source": [
    "test_data = downcast_dtypes(test_data)\n",
    "\n",
    "test_data['date_block_num'] = 34\n",
    "\n",
    "test = test_data.merge(items, on='item_id', how='left')\n",
    "# combine train and test data together\n",
    "traintest = pd.concat([all_data_enc, test],sort=False)"
   ]
  },
  {
   "cell_type": "code",
   "execution_count": 33,
   "metadata": {},
   "outputs": [],
   "source": [
    "traintest.drop(['item_name'], axis=1, inplace=True)"
   ]
  },
  {
   "cell_type": "code",
   "execution_count": 34,
   "metadata": {},
   "outputs": [
    {
     "data": {
      "application/vnd.jupyter.widget-view+json": {
       "model_id": "5efab3acd5094f11989e09dc35b96c09",
       "version_major": 2,
       "version_minor": 0
      },
      "text/plain": [
       "HBox(children=(IntProgress(value=0, max=4), HTML(value='')))"
      ]
     },
     "metadata": {},
     "output_type": "display_data"
    },
    {
     "name": "stderr",
     "output_type": "stream",
     "text": [
      "E:\\Anaconda3\\lib\\site-packages\\pandas\\core\\indexing.py:543: SettingWithCopyWarning: \n",
      "A value is trying to be set on a copy of a slice from a DataFrame.\n",
      "Try using .loc[row_indexer,col_indexer] = value instead\n",
      "\n",
      "See the caveats in the documentation: http://pandas.pydata.org/pandas-docs/stable/indexing.html#indexing-view-versus-copy\n",
      "  self.obj[item] = s\n"
     ]
    },
    {
     "name": "stdout",
     "output_type": "stream",
     "text": [
      "\n"
     ]
    }
   ],
   "source": [
    "lags = [1, 2, 3, 12]\n",
    "for lag in tqdm_notebook(lags):\n",
    "    lag_df = traintest[index_cols + ['item_cnt']]\n",
    "    lag_df.loc[:, 'date_block_num'] += lag\n",
    "    lag_df = lag_df.rename(columns={'item_cnt': 'item_cnt'+'_lag_'+str(lag)})\n",
    "    traintest = traintest.merge(\n",
    "        lag_df, on=index_cols, how='left')"
   ]
  },
  {
   "cell_type": "code",
   "execution_count": 35,
   "metadata": {},
   "outputs": [
    {
     "data": {
      "text/plain": [
       "42"
      ]
     },
     "execution_count": 35,
     "metadata": {},
     "output_type": "execute_result"
    }
   ],
   "source": [
    "del all_data_enc;\n",
    "gc.collect()"
   ]
  },
  {
   "cell_type": "code",
   "execution_count": 36,
   "metadata": {
    "code_folding": []
   },
   "outputs": [],
   "source": [
    "def make_lag_feat(df_, lag_feat, lags, gb_list):\n",
    "    df = df_.copy()\n",
    "    for gb_, feat in tqdm_notebook(zip(gb_list, lag_feat)):\n",
    "        for lag in tqdm_notebook(lags):\n",
    "            gb = gb_.copy()\n",
    "            gb.loc[:, 'date_block_num'] += lag\n",
    "            gb = gb.rename(columns={feat: feat+'_lag_'+str(lag)})\n",
    "            df = df.merge(gb, on=list(gb.columns[1:]), how='left')\n",
    "    return df"
   ]
  },
  {
   "cell_type": "code",
   "execution_count": 37,
   "metadata": {},
   "outputs": [
    {
     "data": {
      "application/vnd.jupyter.widget-view+json": {
       "model_id": "c44c1ce2c2a1448f8162a83ac8a185eb",
       "version_major": 2,
       "version_minor": 0
      },
      "text/plain": [
       "HBox(children=(IntProgress(value=1, bar_style='info', max=1), HTML(value='')))"
      ]
     },
     "metadata": {},
     "output_type": "display_data"
    },
    {
     "data": {
      "application/vnd.jupyter.widget-view+json": {
       "model_id": "01b56418348c4952a4a87eb7aa9af43c",
       "version_major": 2,
       "version_minor": 0
      },
      "text/plain": [
       "HBox(children=(IntProgress(value=0, max=4), HTML(value='')))"
      ]
     },
     "metadata": {},
     "output_type": "display_data"
    },
    {
     "data": {
      "application/vnd.jupyter.widget-view+json": {
       "model_id": "6f43bc48b4c146e7875caf08aa11caa1",
       "version_major": 2,
       "version_minor": 0
      },
      "text/plain": [
       "HBox(children=(IntProgress(value=0, max=4), HTML(value='')))"
      ]
     },
     "metadata": {},
     "output_type": "display_data"
    },
    {
     "data": {
      "application/vnd.jupyter.widget-view+json": {
       "model_id": "a29e8cbdc70d49acad1579a41bc8ea82",
       "version_major": 2,
       "version_minor": 0
      },
      "text/plain": [
       "HBox(children=(IntProgress(value=0, max=4), HTML(value='')))"
      ]
     },
     "metadata": {},
     "output_type": "display_data"
    },
    {
     "data": {
      "application/vnd.jupyter.widget-view+json": {
       "model_id": "de0308835d8d4940848b6256045759b7",
       "version_major": 2,
       "version_minor": 0
      },
      "text/plain": [
       "HBox(children=(IntProgress(value=0, max=4), HTML(value='')))"
      ]
     },
     "metadata": {},
     "output_type": "display_data"
    },
    {
     "data": {
      "application/vnd.jupyter.widget-view+json": {
       "model_id": "7d0eecaa17a844a4877fd066510f256a",
       "version_major": 2,
       "version_minor": 0
      },
      "text/plain": [
       "HBox(children=(IntProgress(value=0, max=4), HTML(value='')))"
      ]
     },
     "metadata": {},
     "output_type": "display_data"
    },
    {
     "data": {
      "application/vnd.jupyter.widget-view+json": {
       "model_id": "c5fb87ef1bdb44758750e2a74b35cb88",
       "version_major": 2,
       "version_minor": 0
      },
      "text/plain": [
       "HBox(children=(IntProgress(value=0, max=4), HTML(value='')))"
      ]
     },
     "metadata": {},
     "output_type": "display_data"
    },
    {
     "data": {
      "application/vnd.jupyter.widget-view+json": {
       "model_id": "b41b3c8038a3470ab3c968374a44a98d",
       "version_major": 2,
       "version_minor": 0
      },
      "text/plain": [
       "HBox(children=(IntProgress(value=0, max=4), HTML(value='')))"
      ]
     },
     "metadata": {},
     "output_type": "display_data"
    },
    {
     "data": {
      "application/vnd.jupyter.widget-view+json": {
       "model_id": "6d598bc2a3ea4845926c7c2844ef0ccf",
       "version_major": 2,
       "version_minor": 0
      },
      "text/plain": [
       "HBox(children=(IntProgress(value=0, max=4), HTML(value='')))"
      ]
     },
     "metadata": {},
     "output_type": "display_data"
    },
    {
     "name": "stdout",
     "output_type": "stream",
     "text": [
      "\n"
     ]
    }
   ],
   "source": [
    "lag_features = list(traintest.columns[6:14])\n",
    "lags = [1, 2, 3, 12]\n",
    "\n",
    "traintest = make_lag_feat(traintest, lag_features, lags, gb_list)"
   ]
  },
  {
   "cell_type": "code",
   "execution_count": 38,
   "metadata": {},
   "outputs": [],
   "source": [
    "# fill in these NA values for item_id related features\n",
    "item_id_feat = list(traintest.columns[15:23])\n",
    "for feat in item_id_feat:\n",
    "    traintest[feat].fillna(0, inplace=True)"
   ]
  },
  {
   "cell_type": "markdown",
   "metadata": {},
   "source": [
    "# Add trend features"
   ]
  },
  {
   "cell_type": "markdown",
   "metadata": {},
   "source": [
    "Add a feature to determine whether a shop starts to open this month:"
   ]
  },
  {
   "cell_type": "code",
   "execution_count": 39,
   "metadata": {
    "scrolled": true
   },
   "outputs": [],
   "source": [
    "shop_open_date = traintest[['shop_id', 'date_block_num']].groupby('shop_id').transform('min')"
   ]
  },
  {
   "cell_type": "code",
   "execution_count": 40,
   "metadata": {
    "scrolled": true
   },
   "outputs": [],
   "source": [
    "traintest['is_new_open'] = (traintest['date_block_num'] == shop_open_date['date_block_num']).map(lambda x: 1 if x else 0)"
   ]
  },
  {
   "cell_type": "code",
   "execution_count": 41,
   "metadata": {
    "scrolled": true
   },
   "outputs": [],
   "source": [
    "# throw away the data in the first 12 months\n",
    "traintest = traintest[traintest['date_block_num']>=12]"
   ]
  },
  {
   "cell_type": "code",
   "execution_count": 42,
   "metadata": {},
   "outputs": [
    {
     "data": {
      "text/html": [
       "<div>\n",
       "<style scoped>\n",
       "    .dataframe tbody tr th:only-of-type {\n",
       "        vertical-align: middle;\n",
       "    }\n",
       "\n",
       "    .dataframe tbody tr th {\n",
       "        vertical-align: top;\n",
       "    }\n",
       "\n",
       "    .dataframe thead th {\n",
       "        text-align: right;\n",
       "    }\n",
       "</style>\n",
       "<table border=\"1\" class=\"dataframe\">\n",
       "  <thead>\n",
       "    <tr style=\"text-align: right;\">\n",
       "      <th></th>\n",
       "      <th>shop_id</th>\n",
       "      <th>item_id</th>\n",
       "      <th>date_block_num</th>\n",
       "      <th>item_cnt</th>\n",
       "      <th>item_price</th>\n",
       "      <th>item_category_id</th>\n",
       "      <th>item_id_sum_item_cnt</th>\n",
       "      <th>item_id_avg_item_price</th>\n",
       "      <th>shop_id_sum_item_cnt</th>\n",
       "      <th>shop_id_avg_item_price</th>\n",
       "      <th>...</th>\n",
       "      <th>item_category_id_avg_item_price_lag_12</th>\n",
       "      <th>shop_id_item_category_id_sum_item_cnt_lag_1</th>\n",
       "      <th>shop_id_item_category_id_sum_item_cnt_lag_2</th>\n",
       "      <th>shop_id_item_category_id_sum_item_cnt_lag_3</th>\n",
       "      <th>shop_id_item_category_id_sum_item_cnt_lag_12</th>\n",
       "      <th>shop_id_item_category_id_avg_item_price_lag_1</th>\n",
       "      <th>shop_id_item_category_id_avg_item_price_lag_2</th>\n",
       "      <th>shop_id_item_category_id_avg_item_price_lag_3</th>\n",
       "      <th>shop_id_item_category_id_avg_item_price_lag_12</th>\n",
       "      <th>is_new_open</th>\n",
       "    </tr>\n",
       "  </thead>\n",
       "  <tbody>\n",
       "    <tr>\n",
       "      <th>4488756</th>\n",
       "      <td>2</td>\n",
       "      <td>27</td>\n",
       "      <td>12</td>\n",
       "      <td>0.0</td>\n",
       "      <td>NaN</td>\n",
       "      <td>19</td>\n",
       "      <td>1.0</td>\n",
       "      <td>998.000</td>\n",
       "      <td>890.0</td>\n",
       "      <td>1096.0</td>\n",
       "      <td>...</td>\n",
       "      <td>1475.000</td>\n",
       "      <td>281.0</td>\n",
       "      <td>140.0</td>\n",
       "      <td>191.0</td>\n",
       "      <td>114.0</td>\n",
       "      <td>1387.000</td>\n",
       "      <td>1669.0</td>\n",
       "      <td>1401.000</td>\n",
       "      <td>1524.000</td>\n",
       "      <td>0</td>\n",
       "    </tr>\n",
       "    <tr>\n",
       "      <th>4488757</th>\n",
       "      <td>2</td>\n",
       "      <td>30</td>\n",
       "      <td>12</td>\n",
       "      <td>0.0</td>\n",
       "      <td>NaN</td>\n",
       "      <td>40</td>\n",
       "      <td>58.0</td>\n",
       "      <td>169.000</td>\n",
       "      <td>890.0</td>\n",
       "      <td>1096.0</td>\n",
       "      <td>...</td>\n",
       "      <td>213.875</td>\n",
       "      <td>93.0</td>\n",
       "      <td>49.0</td>\n",
       "      <td>44.0</td>\n",
       "      <td>175.0</td>\n",
       "      <td>242.125</td>\n",
       "      <td>253.0</td>\n",
       "      <td>239.875</td>\n",
       "      <td>205.875</td>\n",
       "      <td>0</td>\n",
       "    </tr>\n",
       "    <tr>\n",
       "      <th>4488758</th>\n",
       "      <td>2</td>\n",
       "      <td>31</td>\n",
       "      <td>12</td>\n",
       "      <td>0.0</td>\n",
       "      <td>NaN</td>\n",
       "      <td>37</td>\n",
       "      <td>15.0</td>\n",
       "      <td>499.000</td>\n",
       "      <td>890.0</td>\n",
       "      <td>1096.0</td>\n",
       "      <td>...</td>\n",
       "      <td>457.000</td>\n",
       "      <td>55.0</td>\n",
       "      <td>42.0</td>\n",
       "      <td>29.0</td>\n",
       "      <td>52.0</td>\n",
       "      <td>431.750</td>\n",
       "      <td>429.0</td>\n",
       "      <td>527.000</td>\n",
       "      <td>502.750</td>\n",
       "      <td>0</td>\n",
       "    </tr>\n",
       "    <tr>\n",
       "      <th>4488759</th>\n",
       "      <td>2</td>\n",
       "      <td>32</td>\n",
       "      <td>12</td>\n",
       "      <td>1.0</td>\n",
       "      <td>119.0</td>\n",
       "      <td>40</td>\n",
       "      <td>84.0</td>\n",
       "      <td>140.875</td>\n",
       "      <td>890.0</td>\n",
       "      <td>1096.0</td>\n",
       "      <td>...</td>\n",
       "      <td>213.875</td>\n",
       "      <td>93.0</td>\n",
       "      <td>49.0</td>\n",
       "      <td>44.0</td>\n",
       "      <td>175.0</td>\n",
       "      <td>242.125</td>\n",
       "      <td>253.0</td>\n",
       "      <td>239.875</td>\n",
       "      <td>205.875</td>\n",
       "      <td>0</td>\n",
       "    </tr>\n",
       "    <tr>\n",
       "      <th>4488760</th>\n",
       "      <td>2</td>\n",
       "      <td>33</td>\n",
       "      <td>12</td>\n",
       "      <td>1.0</td>\n",
       "      <td>199.0</td>\n",
       "      <td>37</td>\n",
       "      <td>42.0</td>\n",
       "      <td>196.250</td>\n",
       "      <td>890.0</td>\n",
       "      <td>1096.0</td>\n",
       "      <td>...</td>\n",
       "      <td>457.000</td>\n",
       "      <td>55.0</td>\n",
       "      <td>42.0</td>\n",
       "      <td>29.0</td>\n",
       "      <td>52.0</td>\n",
       "      <td>431.750</td>\n",
       "      <td>429.0</td>\n",
       "      <td>527.000</td>\n",
       "      <td>502.750</td>\n",
       "      <td>0</td>\n",
       "    </tr>\n",
       "  </tbody>\n",
       "</table>\n",
       "<p>5 rows × 53 columns</p>\n",
       "</div>"
      ],
      "text/plain": [
       "         shop_id  item_id  date_block_num  item_cnt  item_price  \\\n",
       "4488756        2       27              12       0.0         NaN   \n",
       "4488757        2       30              12       0.0         NaN   \n",
       "4488758        2       31              12       0.0         NaN   \n",
       "4488759        2       32              12       1.0       119.0   \n",
       "4488760        2       33              12       1.0       199.0   \n",
       "\n",
       "         item_category_id  item_id_sum_item_cnt  item_id_avg_item_price  \\\n",
       "4488756                19                   1.0                 998.000   \n",
       "4488757                40                  58.0                 169.000   \n",
       "4488758                37                  15.0                 499.000   \n",
       "4488759                40                  84.0                 140.875   \n",
       "4488760                37                  42.0                 196.250   \n",
       "\n",
       "         shop_id_sum_item_cnt  shop_id_avg_item_price     ...       \\\n",
       "4488756                 890.0                  1096.0     ...        \n",
       "4488757                 890.0                  1096.0     ...        \n",
       "4488758                 890.0                  1096.0     ...        \n",
       "4488759                 890.0                  1096.0     ...        \n",
       "4488760                 890.0                  1096.0     ...        \n",
       "\n",
       "         item_category_id_avg_item_price_lag_12  \\\n",
       "4488756                                1475.000   \n",
       "4488757                                 213.875   \n",
       "4488758                                 457.000   \n",
       "4488759                                 213.875   \n",
       "4488760                                 457.000   \n",
       "\n",
       "         shop_id_item_category_id_sum_item_cnt_lag_1  \\\n",
       "4488756                                        281.0   \n",
       "4488757                                         93.0   \n",
       "4488758                                         55.0   \n",
       "4488759                                         93.0   \n",
       "4488760                                         55.0   \n",
       "\n",
       "         shop_id_item_category_id_sum_item_cnt_lag_2  \\\n",
       "4488756                                        140.0   \n",
       "4488757                                         49.0   \n",
       "4488758                                         42.0   \n",
       "4488759                                         49.0   \n",
       "4488760                                         42.0   \n",
       "\n",
       "         shop_id_item_category_id_sum_item_cnt_lag_3  \\\n",
       "4488756                                        191.0   \n",
       "4488757                                         44.0   \n",
       "4488758                                         29.0   \n",
       "4488759                                         44.0   \n",
       "4488760                                         29.0   \n",
       "\n",
       "         shop_id_item_category_id_sum_item_cnt_lag_12  \\\n",
       "4488756                                         114.0   \n",
       "4488757                                         175.0   \n",
       "4488758                                          52.0   \n",
       "4488759                                         175.0   \n",
       "4488760                                          52.0   \n",
       "\n",
       "        shop_id_item_category_id_avg_item_price_lag_1  \\\n",
       "4488756                                      1387.000   \n",
       "4488757                                       242.125   \n",
       "4488758                                       431.750   \n",
       "4488759                                       242.125   \n",
       "4488760                                       431.750   \n",
       "\n",
       "         shop_id_item_category_id_avg_item_price_lag_2  \\\n",
       "4488756                                         1669.0   \n",
       "4488757                                          253.0   \n",
       "4488758                                          429.0   \n",
       "4488759                                          253.0   \n",
       "4488760                                          429.0   \n",
       "\n",
       "         shop_id_item_category_id_avg_item_price_lag_3  \\\n",
       "4488756                                       1401.000   \n",
       "4488757                                        239.875   \n",
       "4488758                                        527.000   \n",
       "4488759                                        239.875   \n",
       "4488760                                        527.000   \n",
       "\n",
       "         shop_id_item_category_id_avg_item_price_lag_12  is_new_open  \n",
       "4488756                                        1524.000            0  \n",
       "4488757                                         205.875            0  \n",
       "4488758                                         502.750            0  \n",
       "4488759                                         205.875            0  \n",
       "4488760                                         502.750            0  \n",
       "\n",
       "[5 rows x 53 columns]"
      ]
     },
     "execution_count": 42,
     "metadata": {},
     "output_type": "execute_result"
    }
   ],
   "source": [
    "traintest.head()"
   ]
  },
  {
   "cell_type": "markdown",
   "metadata": {},
   "source": [
    "Add features price changing rate and the total revenue last month for each shop:"
   ]
  },
  {
   "cell_type": "code",
   "execution_count": 43,
   "metadata": {},
   "outputs": [
    {
     "data": {
      "application/vnd.jupyter.widget-view+json": {
       "model_id": "60d4611bf7ce4005956b6eef82638478",
       "version_major": 2,
       "version_minor": 0
      },
      "text/plain": [
       "HBox(children=(IntProgress(value=0, max=3), HTML(value='')))"
      ]
     },
     "metadata": {},
     "output_type": "display_data"
    },
    {
     "name": "stdout",
     "output_type": "stream",
     "text": [
      "\n"
     ]
    }
   ],
   "source": [
    "for type in tqdm_notebook(['item_id', 'item_category_id', 'shop_id_item_category_id']):\n",
    "    traintest[type+'_delta_price_lag_1'] = traintest[type+'_avg_item_price_lag_1'] / \\\n",
    "        traintest[type+'_avg_item_price_lag_2'] - 1"
   ]
  },
  {
   "cell_type": "code",
   "execution_count": 44,
   "metadata": {},
   "outputs": [],
   "source": [
    "traintest['shop_id_revenue_lag_1'] = traintest['shop_id_avg_item_price_lag_1'].astype('float32') * \\\n",
    "    traintest['shop_id_sum_item_cnt_lag_1'].astype('float32')"
   ]
  },
  {
   "cell_type": "markdown",
   "metadata": {},
   "source": [
    "Add the feature that whether the sample is in December:"
   ]
  },
  {
   "cell_type": "code",
   "execution_count": 45,
   "metadata": {},
   "outputs": [],
   "source": [
    "traintest['month_11'] = traintest['date_block_num'].apply(lambda x: 1 if x%12==11 else 0)"
   ]
  },
  {
   "cell_type": "code",
   "execution_count": 46,
   "metadata": {},
   "outputs": [],
   "source": [
    "shop_price_feat=[]\n",
    "for feat in traintest.columns:\n",
    "    if 'shop_id' in feat and 'avg_item_price_lag' in feat:\n",
    "        shop_price_feat.append(feat)"
   ]
  },
  {
   "cell_type": "code",
   "execution_count": 47,
   "metadata": {},
   "outputs": [],
   "source": [
    "cols_to_drop = list(\n",
    "    traintest.columns[6:14]) + shop_price_feat + ['item_price']"
   ]
  },
  {
   "cell_type": "code",
   "execution_count": 48,
   "metadata": {},
   "outputs": [
    {
     "data": {
      "text/plain": [
       "['item_id_sum_item_cnt',\n",
       " 'item_id_avg_item_price',\n",
       " 'shop_id_sum_item_cnt',\n",
       " 'shop_id_avg_item_price',\n",
       " 'item_category_id_sum_item_cnt',\n",
       " 'item_category_id_avg_item_price',\n",
       " 'shop_id_item_category_id_sum_item_cnt',\n",
       " 'shop_id_item_category_id_avg_item_price',\n",
       " 'shop_id_avg_item_price_lag_1',\n",
       " 'shop_id_avg_item_price_lag_2',\n",
       " 'shop_id_avg_item_price_lag_3',\n",
       " 'shop_id_avg_item_price_lag_12',\n",
       " 'shop_id_item_category_id_avg_item_price_lag_1',\n",
       " 'shop_id_item_category_id_avg_item_price_lag_2',\n",
       " 'shop_id_item_category_id_avg_item_price_lag_3',\n",
       " 'shop_id_item_category_id_avg_item_price_lag_12',\n",
       " 'item_price']"
      ]
     },
     "execution_count": 48,
     "metadata": {},
     "output_type": "execute_result"
    }
   ],
   "source": [
    "cols_to_drop"
   ]
  },
  {
   "cell_type": "code",
   "execution_count": 49,
   "metadata": {},
   "outputs": [],
   "source": [
    "traintest = traintest.drop(cols_to_drop, axis=1)"
   ]
  },
  {
   "cell_type": "code",
   "execution_count": 50,
   "metadata": {},
   "outputs": [],
   "source": [
    "traintest = downcast_dtypes(traintest)"
   ]
  },
  {
   "cell_type": "markdown",
   "metadata": {},
   "source": [
    "# Add magic feature"
   ]
  },
  {
   "cell_type": "markdown",
   "metadata": {},
   "source": [
    "For each sample, determine whether it is an appeared shop_item pair or a totally new item. This feature helped me reduce RMSE by around 0.4."
   ]
  },
  {
   "cell_type": "code",
   "execution_count": 51,
   "metadata": {},
   "outputs": [],
   "source": [
    "traintest['shop_item_pair'] = traintest[['shop_id', 'item_id']].apply(\n",
    "    lambda x: (x['shop_id'], x['item_id']), axis=1)"
   ]
  },
  {
   "cell_type": "code",
   "execution_count": 52,
   "metadata": {},
   "outputs": [],
   "source": [
    "def is_good(df, date):\n",
    "    shop_item_list = train_data.loc[train_data['date_block_num']\n",
    "                                    < date, 'shop_item_pair'].drop_duplicates()\n",
    "    return df['shop_item_pair'].isin(shop_item_list)"
   ]
  },
  {
   "cell_type": "code",
   "execution_count": 53,
   "metadata": {},
   "outputs": [
    {
     "data": {
      "application/vnd.jupyter.widget-view+json": {
       "model_id": "59935c5ea1ad4359b3d8fe5fa3d8d68a",
       "version_major": 2,
       "version_minor": 0
      },
      "text/plain": [
       "HBox(children=(IntProgress(value=0, max=23), HTML(value='')))"
      ]
     },
     "metadata": {},
     "output_type": "display_data"
    },
    {
     "name": "stdout",
     "output_type": "stream",
     "text": [
      "\n"
     ]
    }
   ],
   "source": [
    "for date in tqdm_notebook(range(12, 35)):\n",
    "    traintest.loc[traintest['date_block_num'] == date, 'is_good'] = is_good(\n",
    "        traintest[traintest['date_block_num'] == date], date).apply(lambda x: 1 if x else 0)"
   ]
  },
  {
   "cell_type": "code",
   "execution_count": 54,
   "metadata": {},
   "outputs": [],
   "source": [
    "def is_new(df, date):\n",
    "    item_list = train_data.loc[train_data['date_block_num']<date,'item_id'].drop_duplicates()\n",
    "    return (df['item_id'].isin(item_list)).apply(lambda x: 0 if x else 1)"
   ]
  },
  {
   "cell_type": "code",
   "execution_count": 55,
   "metadata": {},
   "outputs": [
    {
     "data": {
      "application/vnd.jupyter.widget-view+json": {
       "model_id": "b07b8c1528414ce0857622ce1a2421e4",
       "version_major": 2,
       "version_minor": 0
      },
      "text/plain": [
       "HBox(children=(IntProgress(value=0, max=23), HTML(value='')))"
      ]
     },
     "metadata": {},
     "output_type": "display_data"
    },
    {
     "name": "stdout",
     "output_type": "stream",
     "text": [
      "\n"
     ]
    }
   ],
   "source": [
    "for date in tqdm_notebook(range(12, 35)):\n",
    "    traintest.loc[traintest['date_block_num'] == date, 'is_new'] = is_new(\n",
    "        traintest[traintest['date_block_num'] == date], date)"
   ]
  },
  {
   "cell_type": "code",
   "execution_count": 56,
   "metadata": {},
   "outputs": [
    {
     "data": {
      "text/plain": [
       "20900.0"
      ]
     },
     "execution_count": 56,
     "metadata": {},
     "output_type": "execute_result"
    }
   ],
   "source": [
    "traintest.loc[traintest['date_block_num'] == 33, 'is_new'].sum()"
   ]
  },
  {
   "cell_type": "code",
   "execution_count": 57,
   "metadata": {},
   "outputs": [],
   "source": [
    "traintest.drop('shop_item_pair', axis=1, inplace=True)"
   ]
  },
  {
   "cell_type": "code",
   "execution_count": 58,
   "metadata": {},
   "outputs": [],
   "source": [
    "traintest = downcast_dtypes(traintest)"
   ]
  },
  {
   "cell_type": "code",
   "execution_count": 69,
   "metadata": {},
   "outputs": [
    {
     "data": {
      "text/plain": [
       "Index(['shop_id', 'item_id', 'date_block_num', 'item_cnt', 'item_category_id',\n",
       "       'ID', 'item_cnt_lag_1', 'item_cnt_lag_2', 'item_cnt_lag_3',\n",
       "       'item_cnt_lag_12', 'item_id_sum_item_cnt_lag_1',\n",
       "       'item_id_sum_item_cnt_lag_2', 'item_id_sum_item_cnt_lag_3',\n",
       "       'item_id_sum_item_cnt_lag_12', 'item_id_avg_item_price_lag_1',\n",
       "       'item_id_avg_item_price_lag_2', 'item_id_avg_item_price_lag_3',\n",
       "       'item_id_avg_item_price_lag_12', 'shop_id_sum_item_cnt_lag_1',\n",
       "       'shop_id_sum_item_cnt_lag_2', 'shop_id_sum_item_cnt_lag_3',\n",
       "       'shop_id_sum_item_cnt_lag_12', 'item_category_id_sum_item_cnt_lag_1',\n",
       "       'item_category_id_sum_item_cnt_lag_2',\n",
       "       'item_category_id_sum_item_cnt_lag_3',\n",
       "       'item_category_id_sum_item_cnt_lag_12',\n",
       "       'item_category_id_avg_item_price_lag_1',\n",
       "       'item_category_id_avg_item_price_lag_2',\n",
       "       'item_category_id_avg_item_price_lag_3',\n",
       "       'item_category_id_avg_item_price_lag_12',\n",
       "       'shop_id_item_category_id_sum_item_cnt_lag_1',\n",
       "       'shop_id_item_category_id_sum_item_cnt_lag_2',\n",
       "       'shop_id_item_category_id_sum_item_cnt_lag_3',\n",
       "       'shop_id_item_category_id_sum_item_cnt_lag_12', 'is_new_open',\n",
       "       'item_id_delta_price_lag_1', 'item_category_id_delta_price_lag_1',\n",
       "       'shop_id_item_category_id_delta_price_lag_1', 'shop_id_revenue_lag_1',\n",
       "       'month_11', 'is_good', 'is_new'],\n",
       "      dtype='object')"
      ]
     },
     "execution_count": 69,
     "metadata": {},
     "output_type": "execute_result"
    }
   ],
   "source": [
    "traintest.columns"
   ]
  },
  {
   "cell_type": "code",
   "execution_count": 59,
   "metadata": {},
   "outputs": [],
   "source": [
    "# h5 = pd.HDFStore('../FutureSales/traintest_final.h5','w')\n",
    "# h5['data'] = traintest\n",
    "# h5.close()"
   ]
  },
  {
   "cell_type": "markdown",
   "metadata": {},
   "source": [
    "# Train a model"
   ]
  },
  {
   "cell_type": "code",
   "execution_count": 60,
   "metadata": {},
   "outputs": [
    {
     "name": "stderr",
     "output_type": "stream",
     "text": [
      "E:\\Anaconda3\\lib\\site-packages\\pandas\\core\\frame.py:3697: SettingWithCopyWarning: \n",
      "A value is trying to be set on a copy of a slice from a DataFrame\n",
      "\n",
      "See the caveats in the documentation: http://pandas.pydata.org/pandas-docs/stable/indexing.html#indexing-view-versus-copy\n",
      "  errors=errors)\n"
     ]
    }
   ],
   "source": [
    "train_val_df = traintest[traintest['date_block_num']<=33]\n",
    "test = traintest[traintest['date_block_num']==34]\n",
    "train_val_df.drop('ID', axis=1, inplace=True)\n",
    "test.drop('item_cnt', axis=1, inplace=True)"
   ]
  },
  {
   "cell_type": "code",
   "execution_count": 61,
   "metadata": {},
   "outputs": [],
   "source": [
    "X_train = train_val_df[train_val_df['date_block_num'] < 33].drop(\n",
    "    'item_cnt', axis=1)\n",
    "y_train = train_val_df.loc[train_val_df['date_block_num']\n",
    "                           < 33, 'item_cnt']\n",
    "y_train.clip(0, 20, inplace=True)\n",
    "X_val = train_val_df[train_val_df['date_block_num'] == 33].drop(\n",
    "    'item_cnt', axis=1)\n",
    "y_val = train_val_df.loc[train_val_df['date_block_num']\n",
    "                           == 33, 'item_cnt']\n",
    "y_val.clip(0, 20, inplace=True)"
   ]
  },
  {
   "cell_type": "markdown",
   "metadata": {},
   "source": [
    "Use hyperopt to find the best hyperparameter:"
   ]
  },
  {
   "cell_type": "code",
   "execution_count": 62,
   "metadata": {},
   "outputs": [],
   "source": [
    "lgb_train = lgb.Dataset(X_train, y_train)\n",
    "lgb_eval = lgb.Dataset(X_val, y_val, reference=lgb_train)\n",
    "def objective(params):\n",
    "    params['num_leaves'] = int(params['num_leaves']),\n",
    "    model = lgb.train(params,\n",
    "                      lgb_train,\n",
    "                      num_boost_round=1000,\n",
    "                      valid_sets=lgb_eval,\n",
    "                      early_stopping_rounds=50)\n",
    "    y_val_pred = model.predict(X_val)\n",
    "    y_val_pred = y_val_pred.clip(0, 20)\n",
    "    rmse = np.sqrt(mean_squared_error(y_val, y_val_pred))\n",
    "    return rmse\n",
    "\n",
    "\n",
    "space = {\n",
    "    'max_depth': hp.choice('max_depth', np.arange(5, 15, 1, dtype=int)),\n",
    "    'bagging_fraction': hp.uniform('bagging_fraction', 0.5, 1.0),\n",
    "    'colsample_bytree': hp.uniform('colsample_bytree', 0.3, 1.0),\n",
    "    'num_leaves': hp.quniform('num_leaves', 8, 128, 2),\n",
    "    'min_data_in_leaf': hp.choice('min_data_in_leaf', np.arange(5, 30, 1, dtype=int)),\n",
    "    'learning_rate': hp.quniform('learning_rate', 0.02, 0.3, 0.02),\n",
    "    'seed': 0,\n",
    "    'objective': 'regression',\n",
    "    'metric': 'rmse',\n",
    "    'verbose': 0\n",
    "}"
   ]
  },
  {
   "cell_type": "markdown",
   "metadata": {},
   "source": [
    "The tuning process is too long, so I load the trained model instead of running the following cell:"
   ]
  },
  {
   "cell_type": "code",
   "execution_count": 63,
   "metadata": {},
   "outputs": [],
   "source": [
    "# best = fmin(fn=objective,\n",
    "#             space=space,\n",
    "#             algo=tpe.suggest,\n",
    "#             max_evals=20)\n",
    "# print(\"The best hyperparameters are: \")\n",
    "# print(best)"
   ]
  },
  {
   "cell_type": "code",
   "execution_count": 64,
   "metadata": {},
   "outputs": [
    {
     "data": {
      "text/plain": [
       "{'max_depth': 9,\n",
       " 'bagging_fraction': 0.6519025524137463,\n",
       " 'colsample_bytree': 0.4024851089341827,\n",
       " 'num_leaves': 120,\n",
       " 'min_data_in_leaf': 23,\n",
       " 'learning_rate': 0.02,\n",
       " 'seed': 0,\n",
       " 'objective': 'regression',\n",
       " 'metric': 'rmse',\n",
       " 'verbose': 0}"
      ]
     },
     "execution_count": 64,
     "metadata": {},
     "output_type": "execute_result"
    }
   ],
   "source": [
    "model = joblib.load('model_lgb.pkl')\n",
    "model.params"
   ]
  },
  {
   "cell_type": "code",
   "execution_count": 65,
   "metadata": {},
   "outputs": [
    {
     "data": {
      "text/plain": [
       "<matplotlib.axes._subplots.AxesSubplot at 0x240939349e8>"
      ]
     },
     "execution_count": 65,
     "metadata": {},
     "output_type": "execute_result"
    },
    {
     "data": {
      "image/png": "[encoded data removed]",
      "text/plain": [
       "<Figure size 720x1008 with 1 Axes>"
      ]
     },
     "metadata": {
      "needs_background": "light"
     },
     "output_type": "display_data"
    }
   ],
   "source": [
    "def plot_features(booster, figsize):    \n",
    "    fig, ax = plt.subplots(1,1,figsize=figsize)\n",
    "    return lgb.plot_importance(booster=booster, ax=ax)\n",
    "plot_features(model,(10,14))"
   ]
  },
  {
   "cell_type": "markdown",
   "metadata": {},
   "source": [
    "Make preditions:"
   ]
  },
  {
   "cell_type": "code",
   "execution_count": 66,
   "metadata": {},
   "outputs": [],
   "source": [
    "y_test_pred = model.predict(test.drop('ID', axis=1))\n",
    "y_test_pred = y_test_pred.clip(0, 20)"
   ]
  },
  {
   "cell_type": "code",
   "execution_count": 67,
   "metadata": {},
   "outputs": [],
   "source": [
    "sub_df = pd.DataFrame({'ID':pd.Series(range(0,214200)),'item_cnt_month': y_test_pred })"
   ]
  },
  {
   "cell_type": "markdown",
   "metadata": {},
   "source": [
    "This is the prediction I got:"
   ]
  },
  {
   "cell_type": "code",
   "execution_count": 68,
   "metadata": {},
   "outputs": [
    {
     "data": {
      "text/html": [
       "<div>\n",
       "<style scoped>\n",
       "    .dataframe tbody tr th:only-of-type {\n",
       "        vertical-align: middle;\n",
       "    }\n",
       "\n",
       "    .dataframe tbody tr th {\n",
       "        vertical-align: top;\n",
       "    }\n",
       "\n",
       "    .dataframe thead th {\n",
       "        text-align: right;\n",
       "    }\n",
       "</style>\n",
       "<table border=\"1\" class=\"dataframe\">\n",
       "  <thead>\n",
       "    <tr style=\"text-align: right;\">\n",
       "      <th></th>\n",
       "      <th>ID</th>\n",
       "      <th>item_cnt_month</th>\n",
       "    </tr>\n",
       "  </thead>\n",
       "  <tbody>\n",
       "    <tr>\n",
       "      <th>0</th>\n",
       "      <td>0</td>\n",
       "      <td>0.628521</td>\n",
       "    </tr>\n",
       "    <tr>\n",
       "      <th>1</th>\n",
       "      <td>1</td>\n",
       "      <td>1.219965</td>\n",
       "    </tr>\n",
       "    <tr>\n",
       "      <th>2</th>\n",
       "      <td>2</td>\n",
       "      <td>1.123938</td>\n",
       "    </tr>\n",
       "    <tr>\n",
       "      <th>3</th>\n",
       "      <td>3</td>\n",
       "      <td>0.439114</td>\n",
       "    </tr>\n",
       "    <tr>\n",
       "      <th>4</th>\n",
       "      <td>4</td>\n",
       "      <td>2.897255</td>\n",
       "    </tr>\n",
       "    <tr>\n",
       "      <th>5</th>\n",
       "      <td>5</td>\n",
       "      <td>0.541597</td>\n",
       "    </tr>\n",
       "    <tr>\n",
       "      <th>6</th>\n",
       "      <td>6</td>\n",
       "      <td>0.799661</td>\n",
       "    </tr>\n",
       "    <tr>\n",
       "      <th>7</th>\n",
       "      <td>7</td>\n",
       "      <td>0.137542</td>\n",
       "    </tr>\n",
       "    <tr>\n",
       "      <th>8</th>\n",
       "      <td>8</td>\n",
       "      <td>0.760920</td>\n",
       "    </tr>\n",
       "    <tr>\n",
       "      <th>9</th>\n",
       "      <td>9</td>\n",
       "      <td>0.549273</td>\n",
       "    </tr>\n",
       "  </tbody>\n",
       "</table>\n",
       "</div>"
      ],
      "text/plain": [
       "   ID  item_cnt_month\n",
       "0   0        0.628521\n",
       "1   1        1.219965\n",
       "2   2        1.123938\n",
       "3   3        0.439114\n",
       "4   4        2.897255\n",
       "5   5        0.541597\n",
       "6   6        0.799661\n",
       "7   7        0.137542\n",
       "8   8        0.760920\n",
       "9   9        0.549273"
      ]
     },
     "execution_count": 68,
     "metadata": {},
     "output_type": "execute_result"
    }
   ],
   "source": [
    "sub_df.head(10)"
   ]
  },
  {
   "cell_type": "code",
   "execution_count": null,
   "metadata": {},
   "outputs": [],
   "source": []
  }
 ],
 "metadata": {
  "kernelspec": {
   "display_name": "Python 3",
   "language": "python",
   "name": "python3"
  },
  "language_info": {
   "codemirror_mode": {
    "name": "ipython",
    "version": 3
   },
   "file_extension": ".py",
   "mimetype": "text/x-python",
   "name": "python",
   "nbconvert_exporter": "python",
   "pygments_lexer": "ipython3",
   "version": "3.6.5"
  },
  "toc": {
   "base_numbering": 1,
   "nav_menu": {},
   "number_sections": true,
   "sideBar": true,
   "skip_h1_title": false,
   "title_cell": "Table of Contents",
   "title_sidebar": "Contents",
   "toc_cell": false,
   "toc_position": {},
   "toc_section_display": true,
   "toc_window_display": false
  }
 },
 "nbformat": 4,
 "nbformat_minor": 2
}
